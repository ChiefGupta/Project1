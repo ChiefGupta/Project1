{
  "nbformat": 4,
  "nbformat_minor": 0,
  "metadata": {
    "colab": {
      "provenance": [],
      "authorship_tag": "ABX9TyOe944iLuFZMt4oChSW4DNT",
      "include_colab_link": true
    },
    "kernelspec": {
      "name": "python3",
      "display_name": "Python 3"
    },
    "language_info": {
      "name": "python"
    }
  },
  "cells": [
    {
      "cell_type": "markdown",
      "metadata": {
        "id": "view-in-github",
        "colab_type": "text"
      },
      "source": [
        "<a href=\"https://colab.research.google.com/github/ChiefGupta/Project1/blob/main/Project1_Demonstrator.ipynb\" target=\"_parent\"><img src=\"https://colab.research.google.com/assets/colab-badge.svg\" alt=\"Open In Colab\"/></a>"
      ]
    },
    {
      "cell_type": "code",
      "execution_count": null,
      "metadata": {
        "id": "wCiB2D2J1UWL"
      },
      "outputs": [],
      "source": [
        "import numpy as np\n",
        "import pandas as pd\n",
        "from scipy.sparse import csr_matrix, hstack\n",
        "import lightgbm as lgb\n",
        "!pip install joblib\n",
        "import joblib"
      ]
    },
    {
      "cell_type": "code",
      "source": [
        "from google.colab import drive\n",
        "drive.mount('/content/drive')"
      ],
      "metadata": {
        "id": "L3jBDk4g2LK8"
      },
      "execution_count": null,
      "outputs": []
    },
    {
      "cell_type": "code",
      "source": [
        "model = lgb.Booster(model_file='/content/drive/My Drive/trained_lightgbm_model.txt')"
      ],
      "metadata": {
        "id": "XtIIvD7R2L9O"
      },
      "execution_count": 4,
      "outputs": []
    },
    {
      "cell_type": "code",
      "source": [
        "cv = joblib.load('/content/drive/My Drive/database/cv.pkl')\n",
        "tv = joblib.load('/content/drive/My Drive/database/tv.pkl')\n",
        "lb = joblib.load('/content/drive/My Drive/database/lb.pkl')"
      ],
      "metadata": {
        "id": "_p3dQTDc19om"
      },
      "execution_count": 9,
      "outputs": []
    },
    {
      "cell_type": "code",
      "source": [
        "def handle_missing_inplace(dataset):\n",
        "    # Convert 'category_name' to categorical type if it's not already\n",
        "    if not pd.api.types.is_categorical_dtype(dataset['category_name']):\n",
        "        dataset['category_name'] = dataset['category_name'].astype('category')\n",
        "\n",
        "    # Check if 'missing' category exists before adding\n",
        "    if 'missing' not in dataset['category_name'].cat.categories:\n",
        "        dataset['category_name'] = dataset['category_name'].cat.add_categories('missing')\n",
        "    dataset['category_name'].fillna(value='missing', inplace=True)\n",
        "    dataset['brand_name'].fillna(value='missing', inplace=True)\n",
        "    dataset['item_description'].replace('No description yet', 'missing', inplace=True)\n",
        "    dataset['item_description'].fillna(value='missing', inplace=True)\n",
        "\n",
        "def to_categorical(dataset):\n",
        "    dataset['category_name'] = dataset['category_name'].astype('category')\n",
        "    dataset['brand_name'] = dataset['brand_name'].astype('category')\n",
        "    dataset['item_condition_id'] = dataset['item_condition_id'].astype('category')"
      ],
      "metadata": {
        "id": "5f3R66uZ2GIT"
      },
      "execution_count": 28,
      "outputs": []
    },
    {
      "cell_type": "code",
      "source": [
        "manual_input = pd.DataFrame({\n",
        "    'name': ['Vintage Designer Bag'],  # Example: ['Vintage Designer Bag']\n",
        "    'item_condition_id': [3],  # Example: [3]\n",
        "    'category_name': ['Women/Bags/Handbags'],  # Example: ['Women/Bags/Handbags']\n",
        "    'brand_name': ['Gucci'],  # Example: ['Gucci']\n",
        "    'shipping': [1],  # Example: [1] if shipping paid by seller\n",
        "    'item_description': ['A luxury handbag in great condition']  # Example: ['A luxury handbag in great condition.']\n",
        "})\n",
        "\n",
        "manual_input.head()"
      ],
      "metadata": {
        "colab": {
          "base_uri": "https://localhost:8080/",
          "height": 80
        },
        "id": "4FXntbrj5u3o",
        "outputId": "71986b29-e65c-4d8f-fa97-c71d0a99d282"
      },
      "execution_count": 38,
      "outputs": [
        {
          "output_type": "execute_result",
          "data": {
            "text/plain": [
              "                   name  item_condition_id        category_name brand_name  \\\n",
              "0  Vintage Designer Bag                  3  Women/Bags/Handbags      Gucci   \n",
              "\n",
              "   shipping                     item_description  \n",
              "0         1  A luxury handbag in great condition  "
            ],
            "text/html": [
              "\n",
              "  <div id=\"df-029c43e2-2e15-41e4-8129-494bb0018588\" class=\"colab-df-container\">\n",
              "    <div>\n",
              "<style scoped>\n",
              "    .dataframe tbody tr th:only-of-type {\n",
              "        vertical-align: middle;\n",
              "    }\n",
              "\n",
              "    .dataframe tbody tr th {\n",
              "        vertical-align: top;\n",
              "    }\n",
              "\n",
              "    .dataframe thead th {\n",
              "        text-align: right;\n",
              "    }\n",
              "</style>\n",
              "<table border=\"1\" class=\"dataframe\">\n",
              "  <thead>\n",
              "    <tr style=\"text-align: right;\">\n",
              "      <th></th>\n",
              "      <th>name</th>\n",
              "      <th>item_condition_id</th>\n",
              "      <th>category_name</th>\n",
              "      <th>brand_name</th>\n",
              "      <th>shipping</th>\n",
              "      <th>item_description</th>\n",
              "    </tr>\n",
              "  </thead>\n",
              "  <tbody>\n",
              "    <tr>\n",
              "      <th>0</th>\n",
              "      <td>Vintage Designer Bag</td>\n",
              "      <td>3</td>\n",
              "      <td>Women/Bags/Handbags</td>\n",
              "      <td>Gucci</td>\n",
              "      <td>1</td>\n",
              "      <td>A luxury handbag in great condition</td>\n",
              "    </tr>\n",
              "  </tbody>\n",
              "</table>\n",
              "</div>\n",
              "    <div class=\"colab-df-buttons\">\n",
              "\n",
              "  <div class=\"colab-df-container\">\n",
              "    <button class=\"colab-df-convert\" onclick=\"convertToInteractive('df-029c43e2-2e15-41e4-8129-494bb0018588')\"\n",
              "            title=\"Convert this dataframe to an interactive table.\"\n",
              "            style=\"display:none;\">\n",
              "\n",
              "  <svg xmlns=\"http://www.w3.org/2000/svg\" height=\"24px\" viewBox=\"0 -960 960 960\">\n",
              "    <path d=\"M120-120v-720h720v720H120Zm60-500h600v-160H180v160Zm220 220h160v-160H400v160Zm0 220h160v-160H400v160ZM180-400h160v-160H180v160Zm440 0h160v-160H620v160ZM180-180h160v-160H180v160Zm440 0h160v-160H620v160Z\"/>\n",
              "  </svg>\n",
              "    </button>\n",
              "\n",
              "  <style>\n",
              "    .colab-df-container {\n",
              "      display:flex;\n",
              "      gap: 12px;\n",
              "    }\n",
              "\n",
              "    .colab-df-convert {\n",
              "      background-color: #E8F0FE;\n",
              "      border: none;\n",
              "      border-radius: 50%;\n",
              "      cursor: pointer;\n",
              "      display: none;\n",
              "      fill: #1967D2;\n",
              "      height: 32px;\n",
              "      padding: 0 0 0 0;\n",
              "      width: 32px;\n",
              "    }\n",
              "\n",
              "    .colab-df-convert:hover {\n",
              "      background-color: #E2EBFA;\n",
              "      box-shadow: 0px 1px 2px rgba(60, 64, 67, 0.3), 0px 1px 3px 1px rgba(60, 64, 67, 0.15);\n",
              "      fill: #174EA6;\n",
              "    }\n",
              "\n",
              "    .colab-df-buttons div {\n",
              "      margin-bottom: 4px;\n",
              "    }\n",
              "\n",
              "    [theme=dark] .colab-df-convert {\n",
              "      background-color: #3B4455;\n",
              "      fill: #D2E3FC;\n",
              "    }\n",
              "\n",
              "    [theme=dark] .colab-df-convert:hover {\n",
              "      background-color: #434B5C;\n",
              "      box-shadow: 0px 1px 3px 1px rgba(0, 0, 0, 0.15);\n",
              "      filter: drop-shadow(0px 1px 2px rgba(0, 0, 0, 0.3));\n",
              "      fill: #FFFFFF;\n",
              "    }\n",
              "  </style>\n",
              "\n",
              "    <script>\n",
              "      const buttonEl =\n",
              "        document.querySelector('#df-029c43e2-2e15-41e4-8129-494bb0018588 button.colab-df-convert');\n",
              "      buttonEl.style.display =\n",
              "        google.colab.kernel.accessAllowed ? 'block' : 'none';\n",
              "\n",
              "      async function convertToInteractive(key) {\n",
              "        const element = document.querySelector('#df-029c43e2-2e15-41e4-8129-494bb0018588');\n",
              "        const dataTable =\n",
              "          await google.colab.kernel.invokeFunction('convertToInteractive',\n",
              "                                                    [key], {});\n",
              "        if (!dataTable) return;\n",
              "\n",
              "        const docLinkHtml = 'Like what you see? Visit the ' +\n",
              "          '<a target=\"_blank\" href=https://colab.research.google.com/notebooks/data_table.ipynb>data table notebook</a>'\n",
              "          + ' to learn more about interactive tables.';\n",
              "        element.innerHTML = '';\n",
              "        dataTable['output_type'] = 'display_data';\n",
              "        await google.colab.output.renderOutput(dataTable, element);\n",
              "        const docLink = document.createElement('div');\n",
              "        docLink.innerHTML = docLinkHtml;\n",
              "        element.appendChild(docLink);\n",
              "      }\n",
              "    </script>\n",
              "  </div>\n",
              "\n",
              "\n",
              "    </div>\n",
              "  </div>\n"
            ],
            "application/vnd.google.colaboratory.intrinsic+json": {
              "type": "dataframe",
              "variable_name": "manual_input",
              "summary": "{\n  \"name\": \"manual_input\",\n  \"rows\": 1,\n  \"fields\": [\n    {\n      \"column\": \"name\",\n      \"properties\": {\n        \"dtype\": \"string\",\n        \"num_unique_values\": 1,\n        \"samples\": [\n          \"Vintage Designer Bag\"\n        ],\n        \"semantic_type\": \"\",\n        \"description\": \"\"\n      }\n    },\n    {\n      \"column\": \"item_condition_id\",\n      \"properties\": {\n        \"dtype\": \"number\",\n        \"std\": null,\n        \"min\": 3,\n        \"max\": 3,\n        \"num_unique_values\": 1,\n        \"samples\": [\n          3\n        ],\n        \"semantic_type\": \"\",\n        \"description\": \"\"\n      }\n    },\n    {\n      \"column\": \"category_name\",\n      \"properties\": {\n        \"dtype\": \"string\",\n        \"num_unique_values\": 1,\n        \"samples\": [\n          \"Women/Bags/Handbags\"\n        ],\n        \"semantic_type\": \"\",\n        \"description\": \"\"\n      }\n    },\n    {\n      \"column\": \"brand_name\",\n      \"properties\": {\n        \"dtype\": \"string\",\n        \"num_unique_values\": 1,\n        \"samples\": [\n          \"Gucci\"\n        ],\n        \"semantic_type\": \"\",\n        \"description\": \"\"\n      }\n    },\n    {\n      \"column\": \"shipping\",\n      \"properties\": {\n        \"dtype\": \"number\",\n        \"std\": null,\n        \"min\": 1,\n        \"max\": 1,\n        \"num_unique_values\": 1,\n        \"samples\": [\n          1\n        ],\n        \"semantic_type\": \"\",\n        \"description\": \"\"\n      }\n    },\n    {\n      \"column\": \"item_description\",\n      \"properties\": {\n        \"dtype\": \"string\",\n        \"num_unique_values\": 1,\n        \"samples\": [\n          \"A luxury handbag in great condition\"\n        ],\n        \"semantic_type\": \"\",\n        \"description\": \"\"\n      }\n    }\n  ]\n}"
            }
          },
          "metadata": {},
          "execution_count": 38
        }
      ]
    },
    {
      "cell_type": "code",
      "source": [
        "# Apply preprocessing to the input data\n",
        "handle_missing_inplace(manual_input)\n",
        "to_categorical(manual_input)\n",
        "\n",
        "# Vectorize the features using the loaded vectorizers\n",
        "# Limit the vocabulary to the features the model was trained on\n",
        "X_name_input = cv.transform(manual_input['name'])\n",
        "X_category_input = cv.transform(manual_input['category_name'])\n",
        "X_description_input = tv.transform(manual_input['item_description'])\n",
        "X_brand_input = lb.transform(manual_input['brand_name'])\n",
        "X_dummies_input = csr_matrix(pd.get_dummies(manual_input[['item_condition_id', 'shipping']], sparse=True).values)\n",
        "\n",
        "\n",
        "# Create a sparse matrix for the input data\n",
        "sparse_input = hstack((X_dummies_input, X_description_input, X_brand_input, X_category_input, X_name_input)).tocsr()"
      ],
      "metadata": {
        "id": "rDauzm9q5w5d"
      },
      "execution_count": null,
      "outputs": []
    },
    {
      "cell_type": "code",
      "source": [
        "# Predict the price using the loaded model\n",
        "predicted_price = model.predict(sparse_input, num_iteration=model.best_iteration, predict_disable_shape_check=True)\n",
        "\n",
        "# If the model was trained on log-transformed prices, apply exponential transformation to get the actual price\n",
        "predicted_price = np.expm1(predicted_price)[0]"
      ],
      "metadata": {
        "id": "8imLgP6351Nv"
      },
      "execution_count": 40,
      "outputs": []
    },
    {
      "cell_type": "code",
      "source": [
        "print(f\"The recommended price for the product is: {predicted_price:.2f}\")"
      ],
      "metadata": {
        "colab": {
          "base_uri": "https://localhost:8080/"
        },
        "id": "jsmYWqoO54pS",
        "outputId": "1495a9be-75aa-4ac6-a423-a9e568e5b867"
      },
      "execution_count": 41,
      "outputs": [
        {
          "output_type": "stream",
          "name": "stdout",
          "text": [
            "The recommended price for the product is: 14.59\n"
          ]
        }
      ]
    }
  ]
}